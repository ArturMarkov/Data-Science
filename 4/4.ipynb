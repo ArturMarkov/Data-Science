{
 "cells": [
  {
   "cell_type": "markdown",
   "metadata": {},
   "source": [
    "# 4th lab:"
   ]
  },
  {
   "cell_type": "code",
   "execution_count": 47,
   "metadata": {},
   "outputs": [],
   "source": [
    "import gdal\n",
    "import ogr\n",
    "import os\n",
    "import numpy as np"
   ]
  },
  {
   "cell_type": "markdown",
   "metadata": {},
   "source": [
    "### Loading bands:"
   ]
  },
  {
   "cell_type": "code",
   "execution_count": 48,
   "metadata": {},
   "outputs": [],
   "source": [
    "band_2 = gdal.Open(\"data/L2A_T36UUA_A016478_20200502T090148_2020-05-02_con/RT_T36UUA_A016478_20200502T090148_B02.TIF\")\n",
    "band_3 = gdal.Open(\"data/L2A_T36UUA_A016478_20200502T090148_2020-05-02_con/RT_T36UUA_A016478_20200502T090148_B03.TIF\")\n",
    "band_4 = gdal.Open(\"data/L2A_T36UUA_A016478_20200502T090148_2020-05-02_con/RT_T36UUA_A016478_20200502T090148_B04.TIF\")\n",
    "band_8 = gdal.Open(\"data/L2A_T36UUA_A016478_20200502T090148_2020-05-02_con/RT_T36UUA_A016478_20200502T090148_B08.TIF\")"
   ]
  },
  {
   "cell_type": "code",
   "execution_count": 49,
   "metadata": {},
   "outputs": [],
   "source": [
    "img = gdal.Open(\"data/L2A_T36UUA_A016478_20200502T090148_2020-05-02_con/RT_T36UUA_A016478_20200502T090148_B02.TIF\")"
   ]
  },
  {
   "cell_type": "code",
   "execution_count": 50,
   "metadata": {},
   "outputs": [],
   "source": [
    "dirs = [x for x in os.listdir(path=\"data\") if os.path.isdir(\"data/\"+x) and \"_con\" in x]"
   ]
  },
  {
   "cell_type": "code",
   "execution_count": 80,
   "metadata": {},
   "outputs": [],
   "source": [
    "r = bandAsArray(\"data/r.TIF\", 1)\n",
    "g = bandAsArray(\"data/g.TIF\", 1)\n",
    "b = bandAsArray(\"data/b.TIF\", 1)"
   ]
  },
  {
   "cell_type": "code",
   "execution_count": 79,
   "metadata": {},
   "outputs": [],
   "source": [
    "def bandAsArray( path, bandNum ):\n",
    "  gdalData = gdal.Open( path )\n",
    "  gdalBand = gdalData.GetRasterBand( bandNum )\n",
    "  array = gdalBand.ReadAsArray().astype( np.float32 ).copy()\n",
    "  return array\n",
    "\n",
    "def saveRaster(outPath, array):\n",
    "    xsize = array.shape[1]\n",
    "    ysize = array.shape[0]\n",
    "    \n",
    "    format = \"GTiff\"\n",
    "    driver = gdal.GetDriverByName(format)\n",
    "    metadata = driver.GetMetadata()\n",
    "\n",
    "    outRaster = driver.Create(outPath, xsize, ysize, 1, gdal.GDT_Float32)\n",
    "    outRaster.GetRasterBand(1).WriteArray(array)"
   ]
  },
  {
   "cell_type": "code",
   "execution_count": 82,
   "metadata": {},
   "outputs": [
    {
     "ename": "TypeError",
     "evalue": "data type not understood",
     "output_type": "error",
     "traceback": [
      "\u001b[1;31m---------------------------------------------------------------------------\u001b[0m",
      "\u001b[1;31mTypeError\u001b[0m                                 Traceback (most recent call last)",
      "\u001b[1;32m<ipython-input-82-ffa99cd2465c>\u001b[0m in \u001b[0;36m<module>\u001b[1;34m\u001b[0m\n\u001b[0;32m      1\u001b[0m \u001b[0mres\u001b[0m \u001b[1;33m=\u001b[0m \u001b[0mr\u001b[0m \u001b[1;33m+\u001b[0m \u001b[0mg\u001b[0m \u001b[1;33m+\u001b[0m \u001b[0mb\u001b[0m\u001b[1;33m\u001b[0m\u001b[1;33m\u001b[0m\u001b[0m\n\u001b[0;32m      2\u001b[0m \u001b[1;33m\u001b[0m\u001b[0m\n\u001b[1;32m----> 3\u001b[1;33m \u001b[0mcolor\u001b[0m \u001b[1;33m=\u001b[0m \u001b[0mnp\u001b[0m\u001b[1;33m.\u001b[0m\u001b[0marray\u001b[0m\u001b[1;33m(\u001b[0m\u001b[0mr\u001b[0m\u001b[1;33m.\u001b[0m\u001b[0mshape\u001b[0m\u001b[1;33m,\u001b[0m \u001b[0mnp\u001b[0m\u001b[1;33m.\u001b[0m\u001b[0marray\u001b[0m\u001b[1;33m(\u001b[0m\u001b[1;36m3\u001b[0m\u001b[1;33m)\u001b[0m\u001b[1;33m)\u001b[0m\u001b[1;33m\u001b[0m\u001b[1;33m\u001b[0m\u001b[0m\n\u001b[0m",
      "\u001b[1;31mTypeError\u001b[0m: data type not understood"
     ]
    }
   ],
   "source": [
    "res = r + g + b"
   ]
  },
  {
   "cell_type": "code",
   "execution_count": 98,
   "metadata": {},
   "outputs": [
    {
     "data": {
      "text/plain": [
       "array([[[144.48640442, 129.53599548, 123.28959656],\n",
       "        [146.22720337, 140.80000305, 129.84320068],\n",
       "        [145.61279297, 144.89599609, 136.29440308],\n",
       "        ...,\n",
       "        [ 18.45759964,  21.7343998 ,  29.33760071],\n",
       "        [ 17.28000069,  19.96800041,  27.3920002 ],\n",
       "        [ 17.12639999,  19.25119972,  26.52160072]],\n",
       "\n",
       "       [[143.66720581, 128.92160034, 122.47039795],\n",
       "        [149.09440613, 139.16160583, 125.33760071],\n",
       "        [149.70880127, 143.66720581, 130.45759583],\n",
       "        ...,\n",
       "        [ 18.35519981,  22.09280014,  29.44000053],\n",
       "        [ 16.35840034,  19.20000076,  26.62400055],\n",
       "        [ 16.71680069,  19.12319946,  26.62400055]],\n",
       "\n",
       "       [[142.8480072 , 127.28320312, 121.54879761],\n",
       "        [150.63040161, 133.52960205, 122.16320038],\n",
       "        [153.39520264, 140.39039612, 126.15679932],\n",
       "        ...,\n",
       "        [ 17.58720016,  20.76160049,  28.05760002],\n",
       "        [ 16.63999939,  18.84160042,  25.98399925],\n",
       "        [ 17.22879982,  19.66080093,  27.13599968]],\n",
       "\n",
       "       ...,\n",
       "\n",
       "       [[ 19.89119911,  20.07040024,  23.42399979],\n",
       "        [ 20.40320015,  20.50559998,  23.50079918],\n",
       "        [ 20.40320015,  20.1984005 ,  23.16799927],\n",
       "        ...,\n",
       "        [ 10.47039986,  13.6960001 ,  16.61440086],\n",
       "        [ 11.23840046,  14.74559975,  19.27680016],\n",
       "        [ 11.72480011,  16.20479965,  19.78879929]],\n",
       "\n",
       "       [[ 20.09600067,  20.73600006,  23.78240013],\n",
       "        [ 20.45439911,  20.6079998 ,  23.91040039],\n",
       "        [ 20.17280006,  20.50559998,  24.01280022],\n",
       "        ...,\n",
       "        [ 13.79839993,  18.66239929,  24.75519943],\n",
       "        [ 13.77280045,  18.63680077,  25.06240082],\n",
       "        [ 14.69439983,  19.76320076,  26.47039986]],\n",
       "\n",
       "       [[ 20.09600067,  21.06879997,  24.14080048],\n",
       "        [ 20.68479919,  20.91519928,  24.14080048],\n",
       "        [ 20.83839989,  21.01759911,  24.29439926],\n",
       "        ...,\n",
       "        [ 16.05120087,  20.63360023,  27.64800072],\n",
       "        [ 16.58880043,  22.65600014,  30.20800018],\n",
       "        [ 16.71680069,  21.81119919,  29.38879967]]])"
      ]
     },
     "execution_count": 98,
     "metadata": {},
     "output_type": "execute_result"
    }
   ],
   "source": [
    "color = np.zeros((r.shape[0], r.shape[1], 3))\n",
    "color[..., 0] = r*256\n",
    "color[..., 1] = g*256\n",
    "color[..., 2] = b*256\n",
    "color"
   ]
  },
  {
   "cell_type": "code",
   "execution_count": 99,
   "metadata": {},
   "outputs": [
    {
     "data": {
      "text/plain": [
       "array([[[144, 129, 123],\n",
       "        [146, 140, 129],\n",
       "        [145, 144, 136],\n",
       "        ...,\n",
       "        [ 18,  21,  29],\n",
       "        [ 17,  19,  27],\n",
       "        [ 17,  19,  26]],\n",
       "\n",
       "       [[143, 128, 122],\n",
       "        [149, 139, 125],\n",
       "        [149, 143, 130],\n",
       "        ...,\n",
       "        [ 18,  22,  29],\n",
       "        [ 16,  19,  26],\n",
       "        [ 16,  19,  26]],\n",
       "\n",
       "       [[142, 127, 121],\n",
       "        [150, 133, 122],\n",
       "        [153, 140, 126],\n",
       "        ...,\n",
       "        [ 17,  20,  28],\n",
       "        [ 16,  18,  25],\n",
       "        [ 17,  19,  27]],\n",
       "\n",
       "       ...,\n",
       "\n",
       "       [[ 19,  20,  23],\n",
       "        [ 20,  20,  23],\n",
       "        [ 20,  20,  23],\n",
       "        ...,\n",
       "        [ 10,  13,  16],\n",
       "        [ 11,  14,  19],\n",
       "        [ 11,  16,  19]],\n",
       "\n",
       "       [[ 20,  20,  23],\n",
       "        [ 20,  20,  23],\n",
       "        [ 20,  20,  24],\n",
       "        ...,\n",
       "        [ 13,  18,  24],\n",
       "        [ 13,  18,  25],\n",
       "        [ 14,  19,  26]],\n",
       "\n",
       "       [[ 20,  21,  24],\n",
       "        [ 20,  20,  24],\n",
       "        [ 20,  21,  24],\n",
       "        ...,\n",
       "        [ 16,  20,  27],\n",
       "        [ 16,  22,  30],\n",
       "        [ 16,  21,  29]]])"
      ]
     },
     "execution_count": 99,
     "metadata": {},
     "output_type": "execute_result"
    }
   ],
   "source": [
    "from PIL import Image\n",
    "\n",
    "rgb = color.astype(int)\n",
    "\n",
    "rgb"
   ]
  },
  {
   "cell_type": "code",
   "execution_count": 102,
   "metadata": {},
   "outputs": [
    {
     "ename": "TypeError",
     "evalue": "Cannot handle this data type: (1, 1, 3), <f8",
     "output_type": "error",
     "traceback": [
      "\u001b[1;31m---------------------------------------------------------------------------\u001b[0m",
      "\u001b[1;31mKeyError\u001b[0m                                  Traceback (most recent call last)",
      "\u001b[1;32m~\\anaconda3\\lib\\site-packages\\PIL\\Image.py\u001b[0m in \u001b[0;36mfromarray\u001b[1;34m(obj, mode)\u001b[0m\n\u001b[0;32m   2679\u001b[0m         \u001b[1;32mtry\u001b[0m\u001b[1;33m:\u001b[0m\u001b[1;33m\u001b[0m\u001b[1;33m\u001b[0m\u001b[0m\n\u001b[1;32m-> 2680\u001b[1;33m             \u001b[0mmode\u001b[0m\u001b[1;33m,\u001b[0m \u001b[0mrawmode\u001b[0m \u001b[1;33m=\u001b[0m \u001b[0m_fromarray_typemap\u001b[0m\u001b[1;33m[\u001b[0m\u001b[0mtypekey\u001b[0m\u001b[1;33m]\u001b[0m\u001b[1;33m\u001b[0m\u001b[1;33m\u001b[0m\u001b[0m\n\u001b[0m\u001b[0;32m   2681\u001b[0m         \u001b[1;32mexcept\u001b[0m \u001b[0mKeyError\u001b[0m\u001b[1;33m:\u001b[0m\u001b[1;33m\u001b[0m\u001b[1;33m\u001b[0m\u001b[0m\n",
      "\u001b[1;31mKeyError\u001b[0m: ((1, 1, 3), '<f8')",
      "\nDuring handling of the above exception, another exception occurred:\n",
      "\u001b[1;31mTypeError\u001b[0m                                 Traceback (most recent call last)",
      "\u001b[1;32m<ipython-input-102-9684a665cc9d>\u001b[0m in \u001b[0;36m<module>\u001b[1;34m\u001b[0m\n\u001b[1;32m----> 1\u001b[1;33m \u001b[0mimg\u001b[0m \u001b[1;33m=\u001b[0m \u001b[0mImage\u001b[0m\u001b[1;33m.\u001b[0m\u001b[0mfromarray\u001b[0m\u001b[1;33m(\u001b[0m\u001b[0mcolor\u001b[0m\u001b[1;33m)\u001b[0m\u001b[1;33m\u001b[0m\u001b[1;33m\u001b[0m\u001b[0m\n\u001b[0m\u001b[0;32m      2\u001b[0m \u001b[0mimg\u001b[0m\u001b[1;33m.\u001b[0m\u001b[0msave\u001b[0m\u001b[1;33m(\u001b[0m\u001b[1;34m'myimg.tif'\u001b[0m\u001b[1;33m)\u001b[0m\u001b[1;33m\u001b[0m\u001b[1;33m\u001b[0m\u001b[0m\n",
      "\u001b[1;32m~\\anaconda3\\lib\\site-packages\\PIL\\Image.py\u001b[0m in \u001b[0;36mfromarray\u001b[1;34m(obj, mode)\u001b[0m\n\u001b[0;32m   2680\u001b[0m             \u001b[0mmode\u001b[0m\u001b[1;33m,\u001b[0m \u001b[0mrawmode\u001b[0m \u001b[1;33m=\u001b[0m \u001b[0m_fromarray_typemap\u001b[0m\u001b[1;33m[\u001b[0m\u001b[0mtypekey\u001b[0m\u001b[1;33m]\u001b[0m\u001b[1;33m\u001b[0m\u001b[1;33m\u001b[0m\u001b[0m\n\u001b[0;32m   2681\u001b[0m         \u001b[1;32mexcept\u001b[0m \u001b[0mKeyError\u001b[0m\u001b[1;33m:\u001b[0m\u001b[1;33m\u001b[0m\u001b[1;33m\u001b[0m\u001b[0m\n\u001b[1;32m-> 2682\u001b[1;33m             \u001b[1;32mraise\u001b[0m \u001b[0mTypeError\u001b[0m\u001b[1;33m(\u001b[0m\u001b[1;34m\"Cannot handle this data type: %s, %s\"\u001b[0m \u001b[1;33m%\u001b[0m \u001b[0mtypekey\u001b[0m\u001b[1;33m)\u001b[0m\u001b[1;33m\u001b[0m\u001b[1;33m\u001b[0m\u001b[0m\n\u001b[0m\u001b[0;32m   2683\u001b[0m     \u001b[1;32melse\u001b[0m\u001b[1;33m:\u001b[0m\u001b[1;33m\u001b[0m\u001b[1;33m\u001b[0m\u001b[0m\n\u001b[0;32m   2684\u001b[0m         \u001b[0mrawmode\u001b[0m \u001b[1;33m=\u001b[0m \u001b[0mmode\u001b[0m\u001b[1;33m\u001b[0m\u001b[1;33m\u001b[0m\u001b[0m\n",
      "\u001b[1;31mTypeError\u001b[0m: Cannot handle this data type: (1, 1, 3), <f8"
     ]
    }
   ],
   "source": [
    "img = Image.fromarray(color)\n",
    "img.save('myimg.tif')"
   ]
  },
  {
   "cell_type": "code",
   "execution_count": null,
   "metadata": {},
   "outputs": [],
   "source": []
  }
 ],
 "metadata": {
  "kernelspec": {
   "display_name": "Python 3",
   "language": "python",
   "name": "python3"
  },
  "language_info": {
   "codemirror_mode": {
    "name": "ipython",
    "version": 3
   },
   "file_extension": ".py",
   "mimetype": "text/x-python",
   "name": "python",
   "nbconvert_exporter": "python",
   "pygments_lexer": "ipython3",
   "version": "3.7.6"
  }
 },
 "nbformat": 4,
 "nbformat_minor": 4
}
